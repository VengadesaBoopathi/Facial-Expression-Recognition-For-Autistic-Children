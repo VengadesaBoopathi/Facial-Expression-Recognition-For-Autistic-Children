{
 "cells": [
  {
   "cell_type": "code",
   "execution_count": 1,
   "id": "6358bf40",
   "metadata": {
    "execution": {
     "iopub.execute_input": "2024-06-06T06:17:24.149510Z",
     "iopub.status.busy": "2024-06-06T06:17:24.149082Z",
     "iopub.status.idle": "2024-06-06T06:17:32.594164Z",
     "shell.execute_reply": "2024-06-06T06:17:32.593384Z"
    },
    "papermill": {
     "duration": 8.453421,
     "end_time": "2024-06-06T06:17:32.596405",
     "exception": false,
     "start_time": "2024-06-06T06:17:24.142984",
     "status": "completed"
    },
    "tags": []
   },
   "outputs": [],
   "source": [
    "import matplotlib.pyplot as plt # for plotting\n",
    "import numpy as np # for transformation\n",
    "\n",
    "import torch # PyTorch package\n",
    "import torchvision # load datasets\n",
    "import torchvision.transforms as transforms # transform data\n",
    "import torch.nn as nn # basic building block for neural neteorks\n",
    "import torch.nn.functional as F # import convolution functions like Relu\n",
    "import torch.optim as optim # optimzer\n",
    "from torchvision.datasets import ImageFolder\n",
    "from torch.utils.data import DataLoader\n",
    "import torchvision.models as models"
   ]
  },
  {
   "cell_type": "code",
   "execution_count": 2,
   "id": "79bc2512",
   "metadata": {
    "execution": {
     "iopub.execute_input": "2024-06-06T06:17:32.606189Z",
     "iopub.status.busy": "2024-06-06T06:17:32.604812Z",
     "iopub.status.idle": "2024-06-06T06:17:32.808205Z",
     "shell.execute_reply": "2024-06-06T06:17:32.807538Z"
    },
    "papermill": {
     "duration": 0.209692,
     "end_time": "2024-06-06T06:17:32.810062",
     "exception": false,
     "start_time": "2024-06-06T06:17:32.600370",
     "status": "completed"
    },
    "tags": []
   },
   "outputs": [],
   "source": [
    "# python image library of range [0, 1] \n",
    "# transform them to tensors of normalized range[-1, 1]\n",
    "transform = transforms.Compose([\n",
    "    transforms.Resize((32, 32)),  # Resize your images if needed\n",
    "    transforms.ToTensor(),\n",
    "    transforms.Normalize((0.5, 0.5, 0.5), (0.5, 0.5, 0.5))\n",
    "])\n",
    "\n",
    "# set batch_size\n",
    "batch_size = 4\n",
    "\n",
    "# set number of workers\n",
    "num_workers = 2\n",
    "\n",
    "train_dataset = ImageFolder(root='/kaggle/input/venkiboo/Data/Train', transform=transform)\n",
    "val_dataset = ImageFolder(root='/kaggle/input/venkiboo/Data/Test', transform=transform)\n",
    "\n",
    "train_loader = DataLoader(train_dataset, batch_size=batch_size, shuffle=True)\n",
    "val_loader = DataLoader(val_dataset, batch_size=batch_size, shuffle=False)\n",
    "\n",
    "# put 10 classes into a set\n",
    "classes = ('Natural','anger','fear','joy','sadness','surprise')\n"
   ]
  },
  {
   "cell_type": "code",
   "execution_count": 3,
   "id": "6a6f0880",
   "metadata": {
    "execution": {
     "iopub.execute_input": "2024-06-06T06:17:32.818042Z",
     "iopub.status.busy": "2024-06-06T06:17:32.817778Z",
     "iopub.status.idle": "2024-06-06T06:17:33.274268Z",
     "shell.execute_reply": "2024-06-06T06:17:33.273428Z"
    },
    "papermill": {
     "duration": 0.463212,
     "end_time": "2024-06-06T06:17:33.276759",
     "exception": false,
     "start_time": "2024-06-06T06:17:32.813547",
     "status": "completed"
    },
    "tags": []
   },
   "outputs": [
    {
     "data": {
      "image/png": "[encoded data removed]",
      "text/plain": [
       "<Figure size 640x480 with 1 Axes>"
      ]
     },
     "metadata": {},
     "output_type": "display_data"
    },
    {
     "name": "stdout",
     "output_type": "stream",
     "text": [
      "anger joy sadness joy\n"
     ]
    }
   ],
   "source": [
    "\n",
    "def imshow(img):\n",
    "#     ''' function to show image '''\n",
    "    img = img / 2 + 0.5  # unnormalize\n",
    "    npimg = img.numpy()  # convert to numpy objects\n",
    "    plt.imshow(np.transpose(npimg, (1, 2, 0)))\n",
    "    plt.show()\n",
    "\n",
    "# Assuming train_loader and classes are defined\n",
    "for images, labels in train_loader:\n",
    "    break\n",
    "\n",
    "# call function on our images\n",
    "imshow(torchvision.utils.make_grid(images))\n",
    "\n",
    "# Print the class of the image\n",
    "print(' '.join('%s' % classes[labels[j]] for j in range(len(labels))))"
   ]
  },
  {
   "cell_type": "code",
   "execution_count": 4,
   "id": "5dafcf48",
   "metadata": {
    "execution": {
     "iopub.execute_input": "2024-06-06T06:17:33.286012Z",
     "iopub.status.busy": "2024-06-06T06:17:33.285745Z",
     "iopub.status.idle": "2024-06-06T06:17:33.297509Z",
     "shell.execute_reply": "2024-06-06T06:17:33.296602Z"
    },
    "papermill": {
     "duration": 0.018627,
     "end_time": "2024-06-06T06:17:33.299463",
     "exception": false,
     "start_time": "2024-06-06T06:17:33.280836",
     "status": "completed"
    },
    "tags": []
   },
   "outputs": [
    {
     "name": "stdout",
     "output_type": "stream",
     "text": [
      "Net(\n",
      "  (conv1): Conv2d(3, 6, kernel_size=(5, 5), stride=(1, 1))\n",
      "  (pool): MaxPool2d(kernel_size=2, stride=2, padding=0, dilation=1, ceil_mode=False)\n",
      "  (conv2): Conv2d(6, 16, kernel_size=(5, 5), stride=(1, 1))\n",
      "  (fc1): Linear(in_features=400, out_features=120, bias=True)\n",
      "  (fc2): Linear(in_features=120, out_features=84, bias=True)\n",
      "  (fc3): Linear(in_features=84, out_features=10, bias=True)\n",
      ")\n"
     ]
    }
   ],
   "source": [
    "class Net(nn.Module):\n",
    "#     ''' Models a simple Convolutional Neural Network'''\n",
    "\t\n",
    "    def __init__(self):\n",
    "# \t''' initialize the network '''\n",
    "        super(Net, self).__init__()\n",
    "\t# 3 input image channel, 6 output channels, \n",
    "\t# 5x5 square convolution kernel\n",
    "        self.conv1 = nn.Conv2d(3, 6, 5)\n",
    "\t# Max pooling over a (2, 2) window\n",
    "        self.pool = nn.MaxPool2d(2, 2)\n",
    "        self.conv2 = nn.Conv2d(6, 16, 5) \n",
    "        self.fc1 = nn.Linear(16 * 5 * 5, 120)# 5x5 from image dimension\n",
    "        self.fc2 = nn.Linear(120, 84)\n",
    "        self.fc3 = nn.Linear(84, 10)\n",
    "\n",
    "    def forward(self, x):\n",
    "# \t''' the forward propagation algorithm '''\n",
    "        x = self.pool(F.relu(self.conv1(x)))\n",
    "        x = self.pool(F.relu(self.conv2(x)))\n",
    "        x = x.view(-1, 16 * 5 * 5)\n",
    "        x = F.relu(self.fc1(x))\n",
    "        x = F.relu(self.fc2(x))\n",
    "        x = self.fc3(x)\n",
    "        return x\n",
    "\n",
    "net = Net()\n",
    "print(net)\n"
   ]
  },
  {
   "cell_type": "code",
   "execution_count": 5,
   "id": "c7b9076a",
   "metadata": {
    "execution": {
     "iopub.execute_input": "2024-06-06T06:17:33.308935Z",
     "iopub.status.busy": "2024-06-06T06:17:33.308320Z",
     "iopub.status.idle": "2024-06-06T06:17:33.312638Z",
     "shell.execute_reply": "2024-06-06T06:17:33.311835Z"
    },
    "papermill": {
     "duration": 0.011049,
     "end_time": "2024-06-06T06:17:33.314501",
     "exception": false,
     "start_time": "2024-06-06T06:17:33.303452",
     "status": "completed"
    },
    "tags": []
   },
   "outputs": [],
   "source": [
    "criterion = nn.CrossEntropyLoss()\n",
    "optimizer = optim.SGD(net.parameters(), lr=0.001, momentum=0.9)"
   ]
  },
  {
   "cell_type": "code",
   "execution_count": 6,
   "id": "f96679b6",
   "metadata": {
    "execution": {
     "iopub.execute_input": "2024-06-06T06:17:33.323403Z",
     "iopub.status.busy": "2024-06-06T06:17:33.323148Z",
     "iopub.status.idle": "2024-06-06T06:18:27.328354Z",
     "shell.execute_reply": "2024-06-06T06:18:27.327271Z"
    },
    "papermill": {
     "duration": 54.016784,
     "end_time": "2024-06-06T06:18:27.335289",
     "exception": false,
     "start_time": "2024-06-06T06:17:33.318505",
     "status": "completed"
    },
    "tags": []
   },
   "outputs": [
    {
     "name": "stdout",
     "output_type": "stream",
     "text": [
      "Finished Training\n",
      "53745.76171875\n"
     ]
    }
   ],
   "source": [
    "start = torch.cuda.Event(enable_timing=True)\n",
    "end = torch.cuda.Event(enable_timing=True)\n",
    "\n",
    "start.record()\n",
    "\n",
    "for epoch in range(15):  # loop over the dataset multiple times\n",
    "\n",
    "    running_loss = 0.0\n",
    "    for i, data in enumerate(train_loader, 0):\n",
    "        # get the inputs; data is a list of [inputs, labels]\n",
    "        inputs, labels = data\n",
    "\n",
    "        # zero the parameter gradients\n",
    "        optimizer.zero_grad()\n",
    "\n",
    "        # forward + backward + optimize\n",
    "        outputs = net(inputs)\n",
    "        loss = criterion(outputs, labels)\n",
    "        loss.backward()\n",
    "        optimizer.step()\n",
    "\n",
    "        # print statistics\n",
    "        running_loss += loss.item()\n",
    "        if i % 2000 == 1999:    # print every 2000 mini-batches\n",
    "            print('[%d, %5d] loss: %.3f' %\n",
    "                  (epoch + 1, i + 1, running_loss / 2000))\n",
    "            running_loss = 0.0\n",
    "\n",
    "# whatever you are timing goes here\n",
    "end.record()\n",
    "\n",
    "# Waits for everything to finish running\n",
    "torch.cuda.synchronize()\n",
    "\n",
    "print('Finished Training')\n",
    "print(start.elapsed_time(end))  # milliseconds\n"
   ]
  },
  {
   "cell_type": "code",
   "execution_count": 7,
   "id": "c4680414",
   "metadata": {
    "execution": {
     "iopub.execute_input": "2024-06-06T06:18:27.345502Z",
     "iopub.status.busy": "2024-06-06T06:18:27.345005Z",
     "iopub.status.idle": "2024-06-06T06:18:27.360803Z",
     "shell.execute_reply": "2024-06-06T06:18:27.359930Z"
    },
    "papermill": {
     "duration": 0.022771,
     "end_time": "2024-06-06T06:18:27.362697",
     "exception": false,
     "start_time": "2024-06-06T06:18:27.339926",
     "status": "completed"
    },
    "tags": []
   },
   "outputs": [
    {
     "data": {
      "text/plain": [
       "<All keys matched successfully>"
      ]
     },
     "execution_count": 7,
     "metadata": {},
     "output_type": "execute_result"
    }
   ],
   "source": [
    "# save\n",
    "PATH = './output.pth'\n",
    "torch.save(net.state_dict(), PATH)\n",
    "# reload\n",
    "net = Net()\n",
    "net.load_state_dict(torch.load(PATH))"
   ]
  },
  {
   "cell_type": "code",
   "execution_count": 8,
   "id": "12c59862",
   "metadata": {
    "execution": {
     "iopub.execute_input": "2024-06-06T06:18:27.372230Z",
     "iopub.status.busy": "2024-06-06T06:18:27.371995Z",
     "iopub.status.idle": "2024-06-06T06:18:27.610004Z",
     "shell.execute_reply": "2024-06-06T06:18:27.609121Z"
    },
    "papermill": {
     "duration": 0.245076,
     "end_time": "2024-06-06T06:18:27.611962",
     "exception": false,
     "start_time": "2024-06-06T06:18:27.366886",
     "status": "completed"
    },
    "tags": []
   },
   "outputs": [
    {
     "data": {
      "image/png": "[encoded data removed]",
      "text/plain": [
       "<Figure size 640x480 with 1 Axes>"
      ]
     },
     "metadata": {},
     "output_type": "display_data"
    },
    {
     "name": "stdout",
     "output_type": "stream",
     "text": [
      "Natural Natural Natural Natural\n"
     ]
    }
   ],
   "source": [
    "for images, labels in val_loader:\n",
    "    break\n",
    "\n",
    "# call function on our images\n",
    "imshow(torchvision.utils.make_grid(images))\n",
    "\n",
    "# Print the class of the image\n",
    "print(' '.join('%s' % classes[labels[j]] for j in range(len(labels))))"
   ]
  },
  {
   "cell_type": "code",
   "execution_count": 9,
   "id": "85b7a2ce",
   "metadata": {
    "execution": {
     "iopub.execute_input": "2024-06-06T06:18:27.622830Z",
     "iopub.status.busy": "2024-06-06T06:18:27.622509Z",
     "iopub.status.idle": "2024-06-06T06:18:27.631509Z",
     "shell.execute_reply": "2024-06-06T06:18:27.630464Z"
    },
    "papermill": {
     "duration": 0.016426,
     "end_time": "2024-06-06T06:18:27.633306",
     "exception": false,
     "start_time": "2024-06-06T06:18:27.616880",
     "status": "completed"
    },
    "tags": []
   },
   "outputs": [
    {
     "name": "stdout",
     "output_type": "stream",
     "text": [
      "Predicted:  sadness sadness joy joy\n"
     ]
    }
   ],
   "source": [
    "\n",
    "outputs = net(images)\n",
    "\n",
    "_, predicted = torch.max(outputs, 1)\n",
    "\n",
    "print('Predicted: ', ' '.join('%s' % classes[predicted[j]]\n",
    "                              for j in range(4)))"
   ]
  },
  {
   "cell_type": "code",
   "execution_count": 10,
   "id": "d8764f14",
   "metadata": {
    "execution": {
     "iopub.execute_input": "2024-06-06T06:18:27.643715Z",
     "iopub.status.busy": "2024-06-06T06:18:27.643448Z",
     "iopub.status.idle": "2024-06-06T06:18:28.138839Z",
     "shell.execute_reply": "2024-06-06T06:18:28.137776Z"
    },
    "papermill": {
     "duration": 0.50304,
     "end_time": "2024-06-06T06:18:28.141060",
     "exception": false,
     "start_time": "2024-06-06T06:18:27.638020",
     "status": "completed"
    },
    "tags": []
   },
   "outputs": [
    {
     "name": "stdout",
     "output_type": "stream",
     "text": [
      "Accuracy of the network on the test images: 60 %\n"
     ]
    }
   ],
   "source": [
    "correct = 0\n",
    "total = 0\n",
    "with torch.no_grad():\n",
    "    for data in val_loader:\n",
    "        images, labels = data\n",
    "        outputs = net(images)\n",
    "        _, predicted = torch.max(outputs.data, 1)\n",
    "        total += labels.size(0)\n",
    "        correct += (predicted == labels).sum().item()\n",
    "\n",
    "print('Accuracy of the network on the test images: %d %%' % (\n",
    "    100 * correct / total))"
   ]
  }
 ],
 "metadata": {
  "kaggle": {
   "accelerator": "nvidiaTeslaT4",
   "dataSources": [
    {
     "datasetId": 5159030,
     "sourceId": 8619028,
     "sourceType": "datasetVersion"
    }
   ],
   "dockerImageVersionId": 30733,
   "isGpuEnabled": true,
   "isInternetEnabled": true,
   "language": "python",
   "sourceType": "notebook"
  },
  "kernelspec": {
   "display_name": "Python 3",
   "language": "python",
   "name": "python3"
  },
  "language_info": {
   "codemirror_mode": {
    "name": "ipython",
    "version": 3
   },
   "file_extension": ".py",
   "mimetype": "text/x-python",
   "name": "python",
   "nbconvert_exporter": "python",
   "pygments_lexer": "ipython3",
   "version": "3.10.13"
  },
  "papermill": {
   "default_parameters": {},
   "duration": 69.828305,
   "end_time": "2024-06-06T06:18:30.318187",
   "environment_variables": {},
   "exception": null,
   "input_path": "__notebook__.ipynb",
   "output_path": "__notebook__.ipynb",
   "parameters": {},
   "start_time": "2024-06-06T06:17:20.489882",
   "version": "2.5.0"
  }
 },
 "nbformat": 4,
 "nbformat_minor": 5
}
